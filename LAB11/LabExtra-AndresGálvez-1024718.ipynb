{
 "cells": [
  {
   "cell_type": "markdown",
   "id": "4b988cc0-76d8-4db4-898e-739bf78d589f",
   "metadata": {},
   "source": [
    "# Hoja de trabajo extra"
   ]
  },
  {
   "cell_type": "markdown",
   "id": "c547655c-2589-4718-8842-b14b719e8bc3",
   "metadata": {},
   "source": [
    "Andres S. Gálvez A. <br>\n",
    "Carné: 1024718"
   ]
  },
  {
   "cell_type": "markdown",
   "id": "5bcedb9e-51b9-4ad2-99ec-2fb53718634e",
   "metadata": {},
   "source": [
    "M → P → W → B"
   ]
  },
  {
   "cell_type": "markdown",
   "id": "8483252a-022c-404f-b16d-b3e7648434c8",
   "metadata": {},
   "source": [
    "1. +m -p -w -b\n",
    "2. -m -p +w -b\n",
    "3. +m -p -w -b\n",
    "4. +m -p -w +b\n",
    "5. +m -p +w +b\n",
    "6. +m +p +w +b\n",
    "7. -m -p -w +b"
   ]
  },
  {
   "cell_type": "markdown",
   "id": "125bdaa3-8cc2-4c6e-945f-06f383bfe132",
   "metadata": {},
   "source": [
    "### Muestreo simple\n",
    "a) $P(-m, +p, -b, +w) = \\frac{0}{7} = 0$ <br><br>\n",
    "b) $P(+w | -m, -p) = \\frac{1}{2} = 0.5$"
   ]
  },
  {
   "cell_type": "markdown",
   "id": "584fa2c4-23ad-4cea-b3cf-ed28829258e2",
   "metadata": {},
   "source": [
    "### Muestreo por rechazo\n",
    "1. -m -p +w -b \n",
    "2. -m -p -w +b <br>\n",
    "\n",
    "a) $P(-m, +p, -b, +w) = \\frac{0}{7} = 0$ <br><br>\n",
    "b) $P(+w | -m, -p) = \\frac{1}{2} = 0.5$"
   ]
  },
  {
   "cell_type": "markdown",
   "id": "34c65feb-441e-408a-85fc-86af984d81ac",
   "metadata": {},
   "source": [
    "### Muestreo por peso\n",
    "1. +m -p -w -b <br>\n",
    "(1) (1) (1) (1)\n",
    "2. -m -p +w -b <br>\n",
    "(1) (1) (1) (1)\n",
    "3. +m -p -w -b <br>\n",
    "(1) (1) (1) (1)\n",
    "4. +m -p -w +b <br>\n",
    "(1) (1) (1) (1)\n",
    "5. +m -p +w +b <br>\n",
    "(1) (1) (1) (1)\n",
    "6. +m +p +w +b\n",
    "(1) (1) (1) (1)\n",
    "\n",
    "a) $P(+m, +p, -b, +w) = \\frac{0}{6} = 0$ <br><br>\n",
    "\n",
    "1. -m -p +w -b <br>\n",
    "(0.5) (0.75) (1) (1)\n",
    "2. -m -p -w +b <br>\n",
    "(0.5) (0.75) (1) (1)\n",
    "3. -m -p -w -b <br>\n",
    "(0.5) (0.75) (1) (1)\n",
    "4. -m -p +w -b <br>\n",
    "(0.5) (0.75) (1) (1)\n",
    "5. -m -p -w -b <br>\n",
    "(0.5) (0.75) (1) (1)\n",
    "6. -m -p +w -b <br>\n",
    "(0.5) (0.75) (1) (1)\n",
    "\n",
    "b) $P(+w | -m, -p) = \\frac{(0.5 + 0.75)(3)}{(0.5 + 0.75)(6)} = \\frac{1}{2} = 0.5$"
   ]
  }
 ],
 "metadata": {
  "kernelspec": {
   "display_name": "Python 3",
   "language": "python",
   "name": "python3"
  },
  "language_info": {
   "codemirror_mode": {
    "name": "ipython",
    "version": 3
   },
   "file_extension": ".py",
   "mimetype": "text/x-python",
   "name": "python",
   "nbconvert_exporter": "python",
   "pygments_lexer": "ipython3",
   "version": "3.9.4"
  }
 },
 "nbformat": 4,
 "nbformat_minor": 5
}
