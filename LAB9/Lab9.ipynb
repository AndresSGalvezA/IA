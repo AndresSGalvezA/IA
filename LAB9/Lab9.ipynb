{
 "cells": [
  {
   "cell_type": "markdown",
   "id": "64bc8451-8b77-4cd0-bfcc-fb206867642d",
   "metadata": {},
   "source": [
    "# Laboratorio 9\n",
    "## Andres Gálvez - 1024718"
   ]
  },
  {
   "cell_type": "markdown",
   "id": "0bbf74d2-30be-48f4-99c0-46386ba31c13",
   "metadata": {},
   "source": [
    "# 3.1"
   ]
  },
  {
   "cell_type": "code",
   "execution_count": 1,
   "id": "447cf9ce-7f55-4fed-838e-6b522e24d063",
   "metadata": {},
   "outputs": [
    {
     "name": "stdout",
     "output_type": "stream",
     "text": [
      "[[  2   3  48  59  89  79  71  80  19  22]\n",
      " [ 74  20  16  13  74  88  61  28  11  79]\n",
      " [ 86  91  91  80  43   6  83  59 100  98]\n",
      " [ 38  37  47  48  15  17  21   6  32  88]\n",
      " [ 14  18  54  39  47  48  33  59  63  49]\n",
      " [ 98  19  59  99  26  42  77  62  25  11]\n",
      " [ 42  25  16  66   6  76  84  20  11  95]\n",
      " [  9  27  63  24  15  73  44  22  47  85]\n",
      " [ 58  37  94  24  99  70  39  46  29 100]\n",
      " [ 98  92  91  24  70  91  78  73  73  37]]\n",
      "Media aritmética: 51.37\n",
      "Mediana: 48.0\n",
      "Desviación típica: 29.729330634913392\n",
      "Varianza: 883.8331\n",
      "Media aritmética por cada fila: [47.2 46.4 73.7 34.9 42.4 51.8 44.1 40.9 59.6 72.7]\n",
      "Media aritmética por cada columna: [51.9 36.9 57.9 47.6 48.4 59.  59.1 45.5 41.  66.4]\n",
      "Desviación típica por cada fila: [31.57150614 29.76306436 28.10711654 22.14700883 15.59615337 30.61633551\n",
      " 31.57039753 24.56603346 27.93277645 23.16052676]\n",
      "Desviación típica por cada columna: [34.6365414  28.83556831 26.95347844 26.65032833 31.45218593 28.02498885\n",
      " 21.86069532 23.77498686 27.91057147 31.81886233]\n",
      "Varianza por cada fila: [996.76 885.84 790.01 490.49 243.24 937.36 996.69 603.49 780.24 536.41]\n",
      "Varianza por cada columna: [1199.69  831.49  726.49  710.24  989.24  785.4   477.89  565.25  779.\n",
      " 1012.44]\n"
     ]
    },
    {
     "data": {
      "text/html": [
       "<div>\n",
       "<style scoped>\n",
       "    .dataframe tbody tr th:only-of-type {\n",
       "        vertical-align: middle;\n",
       "    }\n",
       "\n",
       "    .dataframe tbody tr th {\n",
       "        vertical-align: top;\n",
       "    }\n",
       "\n",
       "    .dataframe thead th {\n",
       "        text-align: right;\n",
       "    }\n",
       "</style>\n",
       "<table border=\"1\" class=\"dataframe\">\n",
       "  <thead>\n",
       "    <tr style=\"text-align: right;\">\n",
       "      <th></th>\n",
       "      <th>c1</th>\n",
       "      <th>c2</th>\n",
       "      <th>c3</th>\n",
       "      <th>c4</th>\n",
       "      <th>c5</th>\n",
       "      <th>c6</th>\n",
       "      <th>c7</th>\n",
       "      <th>c8</th>\n",
       "      <th>c9</th>\n",
       "      <th>c10</th>\n",
       "    </tr>\n",
       "  </thead>\n",
       "  <tbody>\n",
       "    <tr>\n",
       "      <th>count</th>\n",
       "      <td>10.00000</td>\n",
       "      <td>10.000000</td>\n",
       "      <td>10.000000</td>\n",
       "      <td>10.000000</td>\n",
       "      <td>10.000000</td>\n",
       "      <td>10.000000</td>\n",
       "      <td>10.000000</td>\n",
       "      <td>10.000000</td>\n",
       "      <td>10.000000</td>\n",
       "      <td>10.000000</td>\n",
       "    </tr>\n",
       "    <tr>\n",
       "      <th>mean</th>\n",
       "      <td>51.90000</td>\n",
       "      <td>36.900000</td>\n",
       "      <td>57.900000</td>\n",
       "      <td>47.600000</td>\n",
       "      <td>48.400000</td>\n",
       "      <td>59.000000</td>\n",
       "      <td>59.100000</td>\n",
       "      <td>45.500000</td>\n",
       "      <td>41.000000</td>\n",
       "      <td>66.400000</td>\n",
       "    </tr>\n",
       "    <tr>\n",
       "      <th>std</th>\n",
       "      <td>36.51012</td>\n",
       "      <td>30.395358</td>\n",
       "      <td>28.411461</td>\n",
       "      <td>28.091913</td>\n",
       "      <td>33.153515</td>\n",
       "      <td>29.540932</td>\n",
       "      <td>23.043196</td>\n",
       "      <td>25.061037</td>\n",
       "      <td>29.420326</td>\n",
       "      <td>33.540026</td>\n",
       "    </tr>\n",
       "    <tr>\n",
       "      <th>min</th>\n",
       "      <td>2.00000</td>\n",
       "      <td>3.000000</td>\n",
       "      <td>16.000000</td>\n",
       "      <td>13.000000</td>\n",
       "      <td>6.000000</td>\n",
       "      <td>6.000000</td>\n",
       "      <td>21.000000</td>\n",
       "      <td>6.000000</td>\n",
       "      <td>11.000000</td>\n",
       "      <td>11.000000</td>\n",
       "    </tr>\n",
       "    <tr>\n",
       "      <th>25%</th>\n",
       "      <td>20.00000</td>\n",
       "      <td>19.250000</td>\n",
       "      <td>47.250000</td>\n",
       "      <td>24.000000</td>\n",
       "      <td>17.750000</td>\n",
       "      <td>43.500000</td>\n",
       "      <td>40.250000</td>\n",
       "      <td>23.500000</td>\n",
       "      <td>20.500000</td>\n",
       "      <td>40.000000</td>\n",
       "    </tr>\n",
       "    <tr>\n",
       "      <th>50%</th>\n",
       "      <td>50.00000</td>\n",
       "      <td>26.000000</td>\n",
       "      <td>56.500000</td>\n",
       "      <td>43.500000</td>\n",
       "      <td>45.000000</td>\n",
       "      <td>71.500000</td>\n",
       "      <td>66.000000</td>\n",
       "      <td>52.500000</td>\n",
       "      <td>30.500000</td>\n",
       "      <td>82.000000</td>\n",
       "    </tr>\n",
       "    <tr>\n",
       "      <th>75%</th>\n",
       "      <td>83.00000</td>\n",
       "      <td>37.000000</td>\n",
       "      <td>84.000000</td>\n",
       "      <td>64.250000</td>\n",
       "      <td>73.000000</td>\n",
       "      <td>78.250000</td>\n",
       "      <td>77.750000</td>\n",
       "      <td>61.250000</td>\n",
       "      <td>59.000000</td>\n",
       "      <td>93.250000</td>\n",
       "    </tr>\n",
       "    <tr>\n",
       "      <th>max</th>\n",
       "      <td>98.00000</td>\n",
       "      <td>92.000000</td>\n",
       "      <td>94.000000</td>\n",
       "      <td>99.000000</td>\n",
       "      <td>99.000000</td>\n",
       "      <td>91.000000</td>\n",
       "      <td>84.000000</td>\n",
       "      <td>80.000000</td>\n",
       "      <td>100.000000</td>\n",
       "      <td>100.000000</td>\n",
       "    </tr>\n",
       "  </tbody>\n",
       "</table>\n",
       "</div>"
      ],
      "text/plain": [
       "             c1         c2         c3         c4         c5         c6  \\\n",
       "count  10.00000  10.000000  10.000000  10.000000  10.000000  10.000000   \n",
       "mean   51.90000  36.900000  57.900000  47.600000  48.400000  59.000000   \n",
       "std    36.51012  30.395358  28.411461  28.091913  33.153515  29.540932   \n",
       "min     2.00000   3.000000  16.000000  13.000000   6.000000   6.000000   \n",
       "25%    20.00000  19.250000  47.250000  24.000000  17.750000  43.500000   \n",
       "50%    50.00000  26.000000  56.500000  43.500000  45.000000  71.500000   \n",
       "75%    83.00000  37.000000  84.000000  64.250000  73.000000  78.250000   \n",
       "max    98.00000  92.000000  94.000000  99.000000  99.000000  91.000000   \n",
       "\n",
       "              c7         c8          c9         c10  \n",
       "count  10.000000  10.000000   10.000000   10.000000  \n",
       "mean   59.100000  45.500000   41.000000   66.400000  \n",
       "std    23.043196  25.061037   29.420326   33.540026  \n",
       "min    21.000000   6.000000   11.000000   11.000000  \n",
       "25%    40.250000  23.500000   20.500000   40.000000  \n",
       "50%    66.000000  52.500000   30.500000   82.000000  \n",
       "75%    77.750000  61.250000   59.000000   93.250000  \n",
       "max    84.000000  80.000000  100.000000  100.000000  "
      ]
     },
     "execution_count": 1,
     "metadata": {},
     "output_type": "execute_result"
    }
   ],
   "source": [
    "import numpy as np\n",
    "\n",
    "np.random.seed(2131982)\n",
    "data = np.random.randint(1, 101, size = (10, 10))\n",
    "print(data)\n",
    "print(\"Media aritmética: \" + str(data.mean()))\n",
    "print(\"Mediana: \" + str(np.median(data)))\n",
    "print(\"Desviación típica: \" + str(data.std()))\n",
    "print(\"Varianza: \" + str(data.var()))\n",
    "print(\"Media aritmética por cada fila: \" + str(data.mean(axis = 1)))\n",
    "print(\"Media aritmética por cada columna: \" + str(data.mean(axis = 0)))\n",
    "print(\"Desviación típica por cada fila: \" + str(data.std(axis = 1)))\n",
    "print(\"Desviación típica por cada columna: \" + str(data.std(axis = 0)))\n",
    "print(\"Varianza por cada fila: \" + str(data.var(axis = 1)))\n",
    "print(\"Varianza por cada columna: \" + str(data.var(axis = 0)))\n",
    "\n",
    "import pandas as pd\n",
    "\n",
    "dataframe = pd.DataFrame(data, columns = ['c1', 'c2', 'c3', 'c4', 'c5', 'c6', 'c7', 'c8', 'c9', 'c10'])\n",
    "dataframe.describe()"
   ]
  },
  {
   "cell_type": "markdown",
   "id": "ccfde949-a35b-40bb-a1fd-9636ab4a742e",
   "metadata": {},
   "source": [
    "Coincidencia de datos, salvo std."
   ]
  },
  {
   "cell_type": "markdown",
   "id": "a748dc67-2d97-4ad6-b513-69a8df71a0d3",
   "metadata": {},
   "source": [
    "# 3.2"
   ]
  },
  {
   "cell_type": "code",
   "execution_count": 2,
   "id": "380e9f0c-054e-4730-941a-27356def5057",
   "metadata": {},
   "outputs": [],
   "source": [
    "import pyAgrum as gum\n",
    "\n",
    "bn = gum.BayesNet()\n",
    "b, e, a, j, m = [bn.add(name, 2) for name in \"beajm\"]\n",
    "bn.addArc(b, a)\n",
    "bn.addArc(e, a)\n",
    "bn.addArc(a, j)\n",
    "bn.addArc(a, m)"
   ]
  },
  {
   "cell_type": "code",
   "execution_count": 3,
   "id": "b4178585-5de5-4e0b-b305-2ec0f58dba5e",
   "metadata": {},
   "outputs": [
    {
     "data": {
      "text/plain": [
       "(gum::Potential<double>@000001AE5DBD5470) \n",
       "  b                |\n",
       "0        |1        |\n",
       "---------|---------|\n",
       " 0.9990  | 0.0010  |"
      ]
     },
     "execution_count": 3,
     "metadata": {},
     "output_type": "execute_result"
    }
   ],
   "source": [
    "bn.cpt(b).fillWith([0.999, 0.001])"
   ]
  },
  {
   "cell_type": "code",
   "execution_count": 4,
   "id": "868d57f9-cb3f-4d5f-94e4-83683b848cda",
   "metadata": {},
   "outputs": [
    {
     "data": {
      "text/plain": [
       "(gum::Potential<double>@000001AE5DBD5330) \n",
       "  e                |\n",
       "0        |1        |\n",
       "---------|---------|\n",
       " 0.9980  | 0.0020  |"
      ]
     },
     "execution_count": 4,
     "metadata": {},
     "output_type": "execute_result"
    }
   ],
   "source": [
    "bn.cpt(e).fillWith([0.998, 0.002])"
   ]
  },
  {
   "cell_type": "code",
   "execution_count": 5,
   "id": "0f2274ca-ac1b-4708-adb2-51b47ada7848",
   "metadata": {},
   "outputs": [],
   "source": [
    "bn.cpt(a)[{'b': 0, 'e': 0}] = [0.999, 0.001]\n",
    "bn.cpt(a)[{'b': 0, 'e': 1}] = [0.71, 0.29]\n",
    "bn.cpt(a)[{'b': 1, 'e': 0}] = [0.06, 0.94]\n",
    "bn.cpt(a)[{'b': 1, 'e': 1}] = [0.05, 0.95]\n",
    "bn.cpt(j)[:] = [[0.95, 0.05], [0.1, 0.9]]\n",
    "bn.cpt(m)[:] = [[0.99, 0.01], [0.3, 0.7]]"
   ]
  },
  {
   "cell_type": "code",
   "execution_count": 15,
   "id": "8098778a-61aa-476e-b6a0-f69655758351",
   "metadata": {},
   "outputs": [
    {
     "data": {
      "text/html": [
       "<svg xmlns=\"http://www.w3.org/2000/svg\" xmlns:xlink=\"http://www.w3.org/1999/xlink\" width=\"134pt\" height=\"188pt\" viewBox=\"0.00 0.00 134.00 188.00\">\n",
       "<g id=\"graph0\" class=\"graph\" transform=\"scale(1 1) rotate(0) translate(4 184)\">\n",
       "<title>G</title>\n",
       "<!-- a -->\n",
       "<g id=\"node1\" class=\"node\">\n",
       "<title>a</title>\n",
       "<g id=\"a_node1\"><a xlink:title=\"(2) a\">\n",
       "<ellipse fill=\"#404040\" stroke=\"black\" cx=\"63\" cy=\"-90\" rx=\"27\" ry=\"18\"/>\n",
       "<text text-anchor=\"middle\" x=\"63\" y=\"-86.3\" font-family=\"Times New Roman,serif\" font-size=\"14.00\" fill=\"white\">a</text>\n",
       "</a>\n",
       "</g>\n",
       "</g>\n",
       "<!-- j -->\n",
       "<g id=\"node2\" class=\"node\">\n",
       "<title>j</title>\n",
       "<g id=\"a_node2\"><a xlink:title=\"(3) j\">\n",
       "<ellipse fill=\"#404040\" stroke=\"black\" cx=\"27\" cy=\"-18\" rx=\"27\" ry=\"18\"/>\n",
       "<text text-anchor=\"middle\" x=\"27\" y=\"-14.3\" font-family=\"Times New Roman,serif\" font-size=\"14.00\" fill=\"white\">j</text>\n",
       "</a>\n",
       "</g>\n",
       "</g>\n",
       "<!-- a&#45;&gt;j -->\n",
       "<g id=\"edge1\" class=\"edge\">\n",
       "<title>a-&gt;j</title>\n",
       "<g id=\"a_edge1\"><a xlink:title=\"(2, 3) : \">\n",
       "<path fill=\"none\" stroke=\"#4a4a4a\" d=\"M54.65,-72.76C50.29,-64.28 44.85,-53.71 39.96,-44.2\"/>\n",
       "<polygon fill=\"#4a4a4a\" stroke=\"#4a4a4a\" points=\"42.99,-42.44 35.3,-35.15 36.77,-45.64 42.99,-42.44\"/>\n",
       "</a>\n",
       "</g>\n",
       "</g>\n",
       "<!-- m -->\n",
       "<g id=\"node4\" class=\"node\">\n",
       "<title>m</title>\n",
       "<g id=\"a_node4\"><a xlink:title=\"(4) m\">\n",
       "<ellipse fill=\"#404040\" stroke=\"black\" cx=\"99\" cy=\"-18\" rx=\"27\" ry=\"18\"/>\n",
       "<text text-anchor=\"middle\" x=\"99\" y=\"-14.3\" font-family=\"Times New Roman,serif\" font-size=\"14.00\" fill=\"white\">m</text>\n",
       "</a>\n",
       "</g>\n",
       "</g>\n",
       "<!-- a&#45;&gt;m -->\n",
       "<g id=\"edge4\" class=\"edge\">\n",
       "<title>a-&gt;m</title>\n",
       "<g id=\"a_edge4\"><a xlink:title=\"(2, 4) : \">\n",
       "<path fill=\"none\" stroke=\"#4a4a4a\" d=\"M71.35,-72.76C75.71,-64.28 81.15,-53.71 86.04,-44.2\"/>\n",
       "<polygon fill=\"#4a4a4a\" stroke=\"#4a4a4a\" points=\"89.23,-45.64 90.7,-35.15 83.01,-42.44 89.23,-45.64\"/>\n",
       "</a>\n",
       "</g>\n",
       "</g>\n",
       "<!-- b -->\n",
       "<g id=\"node3\" class=\"node\">\n",
       "<title>b</title>\n",
       "<g id=\"a_node3\"><a xlink:title=\"(0) b\">\n",
       "<ellipse fill=\"#404040\" stroke=\"black\" cx=\"27\" cy=\"-162\" rx=\"27\" ry=\"18\"/>\n",
       "<text text-anchor=\"middle\" x=\"27\" y=\"-158.3\" font-family=\"Times New Roman,serif\" font-size=\"14.00\" fill=\"white\">b</text>\n",
       "</a>\n",
       "</g>\n",
       "</g>\n",
       "<!-- b&#45;&gt;a -->\n",
       "<g id=\"edge2\" class=\"edge\">\n",
       "<title>b-&gt;a</title>\n",
       "<g id=\"a_edge2\"><a xlink:title=\"(0, 2) : \">\n",
       "<path fill=\"none\" stroke=\"#4a4a4a\" d=\"M35.35,-144.76C39.71,-136.28 45.15,-125.71 50.04,-116.2\"/>\n",
       "<polygon fill=\"#4a4a4a\" stroke=\"#4a4a4a\" points=\"53.23,-117.64 54.7,-107.15 47.01,-114.44 53.23,-117.64\"/>\n",
       "</a>\n",
       "</g>\n",
       "</g>\n",
       "<!-- e -->\n",
       "<g id=\"node5\" class=\"node\">\n",
       "<title>e</title>\n",
       "<g id=\"a_node5\"><a xlink:title=\"(1) e\">\n",
       "<ellipse fill=\"#404040\" stroke=\"black\" cx=\"99\" cy=\"-162\" rx=\"27\" ry=\"18\"/>\n",
       "<text text-anchor=\"middle\" x=\"99\" y=\"-158.3\" font-family=\"Times New Roman,serif\" font-size=\"14.00\" fill=\"white\">e</text>\n",
       "</a>\n",
       "</g>\n",
       "</g>\n",
       "<!-- e&#45;&gt;a -->\n",
       "<g id=\"edge3\" class=\"edge\">\n",
       "<title>e-&gt;a</title>\n",
       "<g id=\"a_edge3\"><a xlink:title=\"(1, 2) : \">\n",
       "<path fill=\"none\" stroke=\"#4a4a4a\" d=\"M90.65,-144.76C86.29,-136.28 80.85,-125.71 75.96,-116.2\"/>\n",
       "<polygon fill=\"#4a4a4a\" stroke=\"#4a4a4a\" points=\"78.99,-114.44 71.3,-107.15 72.77,-117.64 78.99,-114.44\"/>\n",
       "</a>\n",
       "</g>\n",
       "</g>\n",
       "</g>\n",
       "</svg>"
      ],
      "text/plain": [
       "(gum::BayesNet<double>@000001AE75091ED0) BN{nodes: 5, arcs: 4, domainSize: 32, dim: 20}"
      ]
     },
     "execution_count": 15,
     "metadata": {},
     "output_type": "execute_result"
    }
   ],
   "source": [
    "import pyAgrum.lib.notebook as gnb\n",
    "bn"
   ]
  },
  {
   "cell_type": "code",
   "execution_count": 7,
   "id": "c9753ce7-80d1-42ee-b18a-6d2a6c2a7f0a",
   "metadata": {},
   "outputs": [],
   "source": [
    "ie = gum.LazyPropagation(bn)"
   ]
  },
  {
   "cell_type": "markdown",
   "id": "1c9d98b2-0feb-4e3f-af7e-ce7b4ea9f10d",
   "metadata": {},
   "source": [
    "* $P(+b, -e, +a, -j, +m)$\n",
    "  * $P(+b)P(-e)P(+a|+b,-e)P(-j|+a)P(+m|+a)$"
   ]
  },
  {
   "cell_type": "code",
   "execution_count": 8,
   "id": "cd7e4c75-7566-420e-aa27-75fadf423025",
   "metadata": {},
   "outputs": [],
   "source": [
    "ie.setEvidence({'b': 1, 'e': 0})\n",
    "ie.makeInference()\n",
    "Pa = ie.posterior(a)[1]"
   ]
  },
  {
   "cell_type": "code",
   "execution_count": 9,
   "id": "45e3fac1-aeec-4959-a223-e9b893aee80a",
   "metadata": {},
   "outputs": [],
   "source": [
    "ie.setEvidence({'a': 1})\n",
    "ie.makeInference()\n",
    "Pj = ie.posterior(j)[0]"
   ]
  },
  {
   "cell_type": "code",
   "execution_count": 10,
   "id": "aaa15d11-741e-49d7-af94-dd91719f4961",
   "metadata": {},
   "outputs": [],
   "source": [
    "ie.setEvidence({'a': 1})\n",
    "ie.makeInference()\n",
    "Pm = ie.posterior(m)[1]"
   ]
  },
  {
   "cell_type": "code",
   "execution_count": 11,
   "id": "09597498-714b-453f-a7a3-0f9e83fee39e",
   "metadata": {},
   "outputs": [
    {
     "data": {
      "text/plain": [
       "6.56684e-05"
      ]
     },
     "execution_count": 11,
     "metadata": {},
     "output_type": "execute_result"
    }
   ],
   "source": [
    "bn.cpt(b)[1] * bn.cpt(e)[0] * Pa * Pj * Pm"
   ]
  },
  {
   "cell_type": "markdown",
   "id": "882c9cb5-ab0b-4048-ade5-574657014f8a",
   "metadata": {},
   "source": [
    "* $P(M)$"
   ]
  },
  {
   "cell_type": "code",
   "execution_count": 12,
   "id": "7ca966eb-8363-4c23-948a-b2314c53b4e4",
   "metadata": {},
   "outputs": [
    {
     "name": "stdout",
     "output_type": "stream",
     "text": [
      "\n",
      "  m                |\n",
      "0        |1        |\n",
      "---------|---------|\n",
      " 0.3000  | 0.7000  |\n",
      "\n"
     ]
    }
   ],
   "source": [
    "ie.makeInference()\n",
    "print(ie.posterior(m))"
   ]
  },
  {
   "cell_type": "markdown",
   "id": "99d55ef6-bf62-4707-9fe8-ee8753d7ad1d",
   "metadata": {},
   "source": [
    "* $P(M|+b, +a)$ <br/>\n",
    "Variables\n",
    "* H: e\n",
    "* Q: M\n",
    "* E: b, a"
   ]
  },
  {
   "cell_type": "code",
   "execution_count": 13,
   "id": "c40269d9-4ad4-41a5-b949-c36638572fc3",
   "metadata": {},
   "outputs": [
    {
     "name": "stdout",
     "output_type": "stream",
     "text": [
      "\n",
      "  m                |\n",
      "0        |1        |\n",
      "---------|---------|\n",
      " 0.3000  | 0.7000  |\n",
      "\n"
     ]
    }
   ],
   "source": [
    "ie.setEvidence({'b': 1, 'a': 1})\n",
    "ie.makeInference()\n",
    "print(ie.posterior(m))"
   ]
  }
 ],
 "metadata": {
  "kernelspec": {
   "display_name": "Python 3",
   "language": "python",
   "name": "python3"
  },
  "language_info": {
   "codemirror_mode": {
    "name": "ipython",
    "version": 3
   },
   "file_extension": ".py",
   "mimetype": "text/x-python",
   "name": "python",
   "nbconvert_exporter": "python",
   "pygments_lexer": "ipython3",
   "version": "3.9.4"
  }
 },
 "nbformat": 4,
 "nbformat_minor": 5
}
